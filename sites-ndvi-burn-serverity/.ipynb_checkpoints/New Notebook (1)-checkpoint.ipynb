{
 "cells": [
  {
   "cell_type": "code",
   "execution_count": 3,
   "metadata": {},
   "outputs": [],
   "source": [
    "import arcpy, os\n",
    "arcpy.env.workspace = r'D:\\Data_Files\\Landsat_firesites'\n",
    "outws = r'C:\\Users\\marin\\OneDrive\\Documents\\GitHub\\desert-fires-impact-biodiversity'\n",
    "folders = arcpy.ListWorkspaces()\n",
    "\n"
   ]
  }
 ],
 "metadata": {
  "kernelspec": {
   "display_name": "ArcGISPro",
   "language": "Python",
   "name": "python3"
  },
  "language_info": {
   "file_extension": ".py",
   "name": "python",
   "version": "3"
  }
 },
 "nbformat": 4,
 "nbformat_minor": 2
}
